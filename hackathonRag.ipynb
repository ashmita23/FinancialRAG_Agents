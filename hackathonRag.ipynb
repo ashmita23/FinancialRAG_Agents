{
 "cells": [
  {
   "cell_type": "code",
   "execution_count": 1,
   "id": "3fa1756b-ed22-475d-87b2-1831dce00f68",
   "metadata": {},
   "outputs": [],
   "source": [
    "from zipfile import ZipFile\n",
    "import os\n",
    "import pickle\n",
    "import joblib"
   ]
  },
  {
   "cell_type": "code",
   "execution_count": 2,
   "id": "85781d5e-b5c4-4368-9266-24e7b00c033e",
   "metadata": {},
   "outputs": [],
   "source": [
    "#with ZipFile(\"Financial_Documents.zip\", 'r') as zObject: \n",
    "#    zObject.extractall(path=\".\") \n",
    "#llx-Zf0VOIvGUktXQV0ldK2e6bHmBXQQOujO9neFM3gfYwLqee2N"
   ]
  },
  {
   "cell_type": "code",
   "execution_count": 3,
   "id": "001b060e-6428-4db3-8f5a-1ff84475f032",
   "metadata": {},
   "outputs": [],
   "source": [
    "files = os.listdir(\"files\")"
   ]
  },
  {
   "cell_type": "code",
   "execution_count": 24,
   "id": "9d6727c7-c1e4-4739-8a55-3d403f6840f9",
   "metadata": {},
   "outputs": [
    {
     "data": {
      "text/plain": [
       "['2023_alphabet.pdf',\n",
       " 'Amazon-com-Inc-2023-Annual-Report.pdf',\n",
       " 'Apple_10-K-Q4-2022.pdf',\n",
       " 'Amazon-2021-Annual-Report.pdf',\n",
       " 'Apple_10-K-2021.pdf',\n",
       " '2024_alphabet-10-q-q1-2024.pdf',\n",
       " 'NASDAQ_NVDA_2021.pdf',\n",
       " 'NASDAQ_NVDA_2023.pdf',\n",
       " 'FB_2023.pdf',\n",
       " '2022-alphabet-annual-report.pdf',\n",
       " 'Amazon-2020-Annual-Report.pdf',\n",
       " 'Apple_10-K-Q4-2023.pdf',\n",
       " 'NASDAQ_NVDA_2020.pdf',\n",
       " 'FB_2021-Annual-Report_FB.pdf',\n",
       " 'Amazon-2022-Annual-Report.pdf',\n",
       " '2020_alphabet_annual_report.pdf',\n",
       " 'NASDAQ_NVDA_2022.pdf',\n",
       " '2021_alphabet_annual_report.pdf',\n",
       " 'FB_2020-Annual-Report_FB.pdf',\n",
       " 'Apple_10-K-Q4-2020.pdf',\n",
       " 'FB_2022.pdf']"
      ]
     },
     "execution_count": 24,
     "metadata": {},
     "output_type": "execute_result"
    }
   ],
   "source": [
    "files"
   ]
  },
  {
   "cell_type": "code",
   "execution_count": 23,
   "id": "38e0c656-68cf-44d6-9e46-dd9d07f61418",
   "metadata": {},
   "outputs": [],
   "source": [
    "files.remove(\".ipynb_checkpoints\")"
   ]
  },
  {
   "cell_type": "code",
   "execution_count": 25,
   "id": "b42945ad-760f-4850-9f52-3012c059fed6",
   "metadata": {},
   "outputs": [
    {
     "data": {
      "text/plain": [
       "['2023_alphabet.pdf',\n",
       " 'Amazon-com-Inc-2023-Annual-Report.pdf',\n",
       " 'Apple_10-K-Q4-2022.pdf',\n",
       " 'Amazon-2021-Annual-Report.pdf',\n",
       " 'Apple_10-K-2021.pdf',\n",
       " '2024_alphabet-10-q-q1-2024.pdf',\n",
       " 'NASDAQ_NVDA_2021.pdf',\n",
       " 'NASDAQ_NVDA_2023.pdf',\n",
       " 'FB_2023.pdf',\n",
       " '2022-alphabet-annual-report.pdf',\n",
       " 'Amazon-2020-Annual-Report.pdf',\n",
       " 'Apple_10-K-Q4-2023.pdf',\n",
       " 'NASDAQ_NVDA_2020.pdf',\n",
       " 'FB_2021-Annual-Report_FB.pdf',\n",
       " 'Amazon-2022-Annual-Report.pdf',\n",
       " '2020_alphabet_annual_report.pdf',\n",
       " 'NASDAQ_NVDA_2022.pdf',\n",
       " '2021_alphabet_annual_report.pdf',\n",
       " 'FB_2020-Annual-Report_FB.pdf',\n",
       " 'Apple_10-K-Q4-2020.pdf',\n",
       " 'FB_2022.pdf']"
      ]
     },
     "execution_count": 25,
     "metadata": {},
     "output_type": "execute_result"
    }
   ],
   "source": [
    "files"
   ]
  },
  {
   "cell_type": "code",
   "execution_count": 22,
   "id": "d75d6b27-5be6-46dc-adbd-bea71b9f66d2",
   "metadata": {},
   "outputs": [
    {
     "name": "stderr",
     "output_type": "stream",
     "text": [
      "100%|██████████| 22/22 [00:00<00:00, 41885.92it/s]\n"
     ]
    }
   ],
   "source": [
    "for file in tqdm(files):\n",
    "    if file.endswith(\".pdf\"):\n",
    "        try:\n",
    "            os.makedirs(\"llamaParseDocs/\"+file[:-4])\n",
    "        except:\n",
    "            pass"
   ]
  },
  {
   "cell_type": "code",
   "execution_count": 5,
   "id": "3cfd24c0-2036-4186-b478-c98927f99972",
   "metadata": {},
   "outputs": [],
   "source": [
    "reader = PdfReader(\"files/\"+\"2020_alphabet_annual_report.pdf\")\n",
    "page = reader.pages[20]"
   ]
  },
  {
   "cell_type": "code",
   "execution_count": 6,
   "id": "b9dfb45b-085a-40eb-bebe-ff49cd77c2a9",
   "metadata": {},
   "outputs": [
    {
     "name": "stdout",
     "output_type": "stream",
     "text": [
      "19 Equity and inclusionWe are working to improve leadership representation of \n",
      "underrepresented groups in order to build a more helpful Google for everyone.\n",
      "Project Euphonia is a Google AI research effort aimed at helping to make speech recognition more accessible for people with atypical speech, like Steve Saling, an ALS technologist.\n",
      "210414_YIR_Design.indd   19210414_YIR_Design.indd   19 4/15/21   3:57 PM4/15/21   3:57 PM\n"
     ]
    }
   ],
   "source": [
    "print(page.extract_text())"
   ]
  },
  {
   "cell_type": "code",
   "execution_count": null,
   "id": "a7df03db-0014-416b-8170-330f9d6aa3ae",
   "metadata": {},
   "outputs": [
    {
     "data": {
      "text/plain": [
       "[File(name=Im0.jpg, data: 34.9 kB, hash: 7382807450209088628),\n",
       " File(name=Im1.jpg, data: 174.5 kB, hash: -7454582767417346210)]"
      ]
     },
     "execution_count": 7,
     "metadata": {},
     "output_type": "execute_result"
    }
   ],
   "source": [
    "page.images"
   ]
  },
  {
   "cell_type": "code",
   "execution_count": 26,
   "id": "f167100c-6690-4a7e-9625-b8964a837526",
   "metadata": {},
   "outputs": [
    {
     "name": "stderr",
     "output_type": "stream",
     "text": [
      "100%|██████████| 21/21 [3:45:01<00:00, 642.91s/it]  \n"
     ]
    }
   ],
   "source": [
    "from unstructured.partition.pdf import partition_pdf\n",
    "for file in tqdm(files):\n",
    "    raw_pdf_elements = partition_pdf(\n",
    "    filename=\"files/\"+file,\n",
    "    extract_images_in_pdf=True,\n",
    "    infer_table_structure=True,\n",
    "    chunking_strategy=\"by_title\",\n",
    "    max_characters=4000,\n",
    "    new_after_n_chars=3800,\n",
    "    combine_text_under_n_chars=2000,\n",
    "    extract_image_block_output_dir=\"llamaParseDocs/\"+file[:-4],\n",
    "    extract_image_block_to_payload = False,\n",
    "    extract_image_block_types=[\"Image\", \"Table\"],\n",
    "    )\n",
    "    tables = []\n",
    "    texts = []\n",
    "for element in raw_pdf_elements:\n",
    "    if \"unstructured.documents.elements.Table\" in str(type(element)):\n",
    "        tables.append(str(element))\n",
    "    elif \"unstructured.documents.elements.CompositeElement\" in str(type(element)):\n",
    "        texts.append(str(element))"
   ]
  },
  {
   "cell_type": "code",
   "execution_count": null,
   "id": "3fd2424e-b468-473d-9a21-ba0ed99d41e6",
   "metadata": {},
   "outputs": [],
   "source": []
  }
 ],
 "metadata": {
  "kernelspec": {
   "display_name": "mykernel",
   "language": "python",
   "name": "mykernel"
  },
  "language_info": {
   "codemirror_mode": {
    "name": "ipython",
    "version": 3
   },
   "file_extension": ".py",
   "mimetype": "text/x-python",
   "name": "python",
   "nbconvert_exporter": "python",
   "pygments_lexer": "ipython3",
   "version": "3.11.7"
  }
 },
 "nbformat": 4,
 "nbformat_minor": 5
}
