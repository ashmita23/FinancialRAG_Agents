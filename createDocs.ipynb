{
 "cells": [
  {
   "cell_type": "code",
   "execution_count": 250,
   "id": "7bae3c0a-9843-4992-a531-79d20eb949bd",
   "metadata": {},
   "outputs": [],
   "source": [
    "import joblib\n",
    "from langchain_text_splitters import RecursiveCharacterTextSplitter\n",
    "from langchain.docstore.document import Document\n",
    "import os\n",
    "import pickle\n",
    "from langchain.output_parsers import NumberedListOutputParser\n",
    "import uuid\n",
    "from tqdm import tqdm\n",
    "from transformers import AutoModelForCausalLM,AutoTokenizer"
   ]
  },
  {
   "cell_type": "code",
   "execution_count": 71,
   "id": "657e01d2-effe-465b-a191-1e253d3d58ba",
   "metadata": {},
   "outputs": [
    {
     "data": {
      "text/plain": [
       "['Amazon-2021-Annual-Report',\n",
       " 'NASDAQ_NVDA_2022',\n",
       " 'NASDAQ_NVDA_2023',\n",
       " '2020_alphabet_annual_report',\n",
       " 'Amazon-2020-Annual-Report',\n",
       " 'Apple_10-K-Q4-2020',\n",
       " 'Apple_10-K-Q4-2022',\n",
       " 'NASDAQ_NVDA_2020',\n",
       " 'Apple_10-K-Q4-2023',\n",
       " 'FB_2022',\n",
       " 'FB_2021-Annual-Report_FB',\n",
       " 'FB_2023',\n",
       " 'Amazon-com-Inc-2023-Annual-Report',\n",
       " '2022-alphabet-annual-report',\n",
       " '2023_alphabet',\n",
       " 'Apple_10-K-2021',\n",
       " 'NASDAQ_NVDA_2021',\n",
       " 'Amazon-2022-Annual-Report',\n",
       " '2024_alphabet-10-q-q1-2024',\n",
       " 'FB_2020-Annual-Report_FB',\n",
       " '2021_alphabet_annual_report']"
      ]
     },
     "execution_count": 71,
     "metadata": {},
     "output_type": "execute_result"
    }
   ],
   "source": [
    "pdfs = os.listdir(\"llamaParseDocs\")\n",
    "pdfs.remove(\".ipynb_checkpoints\")\n",
    "pdfs"
   ]
  },
  {
   "cell_type": "code",
   "execution_count": 42,
   "id": "8e228d0e-3301-45c1-914e-d0f8b29ab8c3",
   "metadata": {},
   "outputs": [],
   "source": [
    "doc = joblib.load(\"llamaParseDocs/Amazon-2021-Annual-Report/Amazon-2021-Annual-Report.pkl\")"
   ]
  },
  {
   "cell_type": "code",
   "execution_count": 66,
   "id": "be96806b-93b3-42c6-b13a-15d0f13f8f3b",
   "metadata": {},
   "outputs": [],
   "source": [
    "splitter = RecursiveCharacterTextSplitter(\n",
    "    chunk_size=1250,\n",
    "    chunk_overlap=200,\n",
    "    length_function=len,\n",
    "    separators = [\"\\n---\\n\",\"\\n\\n\",\"\\n\",\".\",\" \",\"\"],\n",
    "    is_separator_regex=False,\n",
    ")"
   ]
  },
  {
   "cell_type": "code",
   "execution_count": 67,
   "id": "3d02fd80-d72a-4cd9-ae2f-107e60412d56",
   "metadata": {},
   "outputs": [],
   "source": [
    "langdoc = Document(page_content = doc.text,metadata = doc.metadata)"
   ]
  },
  {
   "cell_type": "code",
   "execution_count": 68,
   "id": "3128da76-8a4c-4434-beda-f0cab3be58d8",
   "metadata": {},
   "outputs": [],
   "source": [
    "docs = splitter.split_documents([langdoc])"
   ]
  },
  {
   "cell_type": "code",
   "execution_count": 107,
   "id": "ffdb27e0-85a1-45ed-97cf-0fbadea57e45",
   "metadata": {},
   "outputs": [],
   "source": [
    "for pdf in pdfs[3:4]:\n",
    "    doc = joblib.load(f\"llamaParseDocs/{pdf}/{pdf}.pkl\")\n",
    "    langdoc = Document(page_content = doc[0].text,metadata = doc[0].metadata)\n",
    "    docs = splitter.split_documents([langdoc])\n",
    "    with open(\"llamaParseDocs/\"+pdf+\"/docs\"+\".pkl\", \"wb\") as f:\n",
    "        pickle.dump(docs, f)"
   ]
  },
  {
   "cell_type": "code",
   "execution_count": 109,
   "id": "92c1ac8d-f02e-413f-b00b-7c442a375e57",
   "metadata": {},
   "outputs": [],
   "source": [
    "def updateDoc(doc,string):\n",
    "    newDoc = Document(page_content = string + doc.page_content,metadata = doc.metadata)\n",
    "    return newDoc"
   ]
  },
  {
   "cell_type": "code",
   "execution_count": 113,
   "id": "14ae77f7-9be7-477b-978d-f6e57dccd41d",
   "metadata": {},
   "outputs": [
    {
     "data": {
      "text/plain": [
       "['Amazon-2021-Annual-Report',\n",
       " 'NASDAQ_NVDA_2022',\n",
       " 'NASDAQ_NVDA_2023',\n",
       " '2020_alphabet_annual_report',\n",
       " 'Amazon-2020-Annual-Report',\n",
       " 'Apple_10-K-Q4-2020',\n",
       " 'Apple_10-K-Q4-2022',\n",
       " 'NASDAQ_NVDA_2020',\n",
       " 'Apple_10-K-Q4-2023',\n",
       " 'FB_2022',\n",
       " 'FB_2021-Annual-Report_FB',\n",
       " 'FB_2023',\n",
       " 'Amazon-com-Inc-2023-Annual-Report',\n",
       " '2022-alphabet-annual-report',\n",
       " '2023_alphabet',\n",
       " 'Apple_10-K-2021',\n",
       " 'NASDAQ_NVDA_2021',\n",
       " 'Amazon-2022-Annual-Report',\n",
       " '2024_alphabet-10-q-q1-2024',\n",
       " 'FB_2020-Annual-Report_FB',\n",
       " '2021_alphabet_annual_report']"
      ]
     },
     "execution_count": 113,
     "metadata": {},
     "output_type": "execute_result"
    }
   ],
   "source": [
    "pdfs"
   ]
  },
  {
   "cell_type": "code",
   "execution_count": 157,
   "id": "00710acc-b9a3-49bc-9578-887104a89426",
   "metadata": {},
   "outputs": [],
   "source": [
    "spdf = pdfs[20]\n",
    "docs = joblib.load(f\"llamaParseDocs/{spdf}/docs.pkl\")\n",
    "docs = [updateDoc(doc,string = \"The following text is an Excerpt from Alphabet(A.K.A Google)'s 2021 Financial Report:\\n\") for doc in docs]\n",
    "with open(\"llamaParseDocs/\"+spdf+\"/docs\"+\".pkl\", \"wb\") as f:\n",
    "        pickle.dump(docs, f)"
   ]
  },
  {
   "cell_type": "code",
   "execution_count": 127,
   "id": "760cad1e-5e36-4d61-8d5a-c00aa0d81403",
   "metadata": {},
   "outputs": [],
   "source": [
    "def repairDoc(doc):\n",
    "    newDoc = Document(page_content = doc.page_content[69:],metadata = doc.metadata)\n",
    "    return newDoc"
   ]
  },
  {
   "cell_type": "code",
   "execution_count": 129,
   "id": "f74a486f-e97e-4baa-a0ad-4461e41fd1ce",
   "metadata": {},
   "outputs": [],
   "source": [
    "docs = joblib.load(f\"llamaParseDocs/{spdf}/docs.pkl\")\n",
    "docs = [repairDoc(doc) for doc in docs]\n",
    "with open(\"llamaParseDocs/\"+spdf+\"/docs\"+\".pkl\", \"wb\") as f:\n",
    "        pickle.dump(docs, f)"
   ]
  },
  {
   "cell_type": "code",
   "execution_count": 159,
   "id": "14f2246c-1825-40d9-b2f9-a117be3d53b2",
   "metadata": {},
   "outputs": [
    {
     "data": {
      "text/plain": [
       "'2021_alphabet_annual_report'"
      ]
     },
     "execution_count": 159,
     "metadata": {},
     "output_type": "execute_result"
    }
   ],
   "source": [
    "pdfs[20]"
   ]
  },
  {
   "cell_type": "code",
   "execution_count": 160,
   "id": "f6865cf8-1343-4bd3-8ea1-3bedc52e0fe6",
   "metadata": {},
   "outputs": [
    {
     "data": {
      "text/plain": [
       "['Amazon-2021-Annual-Report',\n",
       " 'NASDAQ_NVDA_2022',\n",
       " 'NASDAQ_NVDA_2023',\n",
       " '2020_alphabet_annual_report',\n",
       " 'Amazon-2020-Annual-Report',\n",
       " 'Apple_10-K-Q4-2020',\n",
       " 'Apple_10-K-Q4-2022',\n",
       " 'NASDAQ_NVDA_2020',\n",
       " 'Apple_10-K-Q4-2023',\n",
       " 'FB_2022',\n",
       " 'FB_2021-Annual-Report_FB',\n",
       " 'FB_2023',\n",
       " 'Amazon-com-Inc-2023-Annual-Report',\n",
       " '2022-alphabet-annual-report',\n",
       " '2023_alphabet',\n",
       " 'Apple_10-K-2021',\n",
       " 'NASDAQ_NVDA_2021',\n",
       " 'Amazon-2022-Annual-Report',\n",
       " '2024_alphabet-10-q-q1-2024',\n",
       " 'FB_2020-Annual-Report_FB',\n",
       " '2021_alphabet_annual_report']"
      ]
     },
     "execution_count": 160,
     "metadata": {},
     "output_type": "execute_result"
    }
   ],
   "source": [
    "pdfs"
   ]
  },
  {
   "cell_type": "code",
   "execution_count": 161,
   "id": "667beff1-9959-4f82-8bfa-a019f5216da1",
   "metadata": {},
   "outputs": [],
   "source": [
    "allPDFdocs = []\n",
    "for pdf in pdfs:\n",
    "    allPDFdocs.extend(joblib.load(f\"llamaParseDocs/{pdf}/docs.pkl\"))"
   ]
  },
  {
   "cell_type": "code",
   "execution_count": 163,
   "id": "02846fb8-dcfa-43e3-bf11-fbe8b1aeb62b",
   "metadata": {},
   "outputs": [],
   "source": [
    "with open(\"allPDFDocs\"+\".pkl\", \"wb\") as f:\n",
    "        pickle.dump(allPDFdocs, f)"
   ]
  },
  {
   "cell_type": "code",
   "execution_count": 184,
   "id": "e3e63de3-ae16-45da-ab71-342062e03e04",
   "metadata": {},
   "outputs": [],
   "source": [
    "def applyHeader(doc):\n",
    "    source = doc.metadata['source'].split(\"/\")\n",
    "    if source[2].startswith(\"table\"):\n",
    "        flag = \"table\"\n",
    "        headers = {\n",
    "        pdfs[0]:f\"Here is a summary of a {flag} from Amazon's 2021 Financial Report:\\n\",\n",
    "        pdfs[1]:f\"Here is a summary of a {flag} from NVIDIA's 2022 Financial Report:\\n\",\n",
    "        pdfs[2]:f\"Here is a summary of a {flag} from NVIDIA's 2023 Financial Report:\\n\",\n",
    "        pdfs[3]:f\"Here is a summary of a {flag} from Alphabet(A.K.A Google)'s 2020 Financial Report:\\n\",\n",
    "        pdfs[4]:f\"Here is a summary of a {flag} from Amazon's 2020 Financial Report:\\n\",\n",
    "        pdfs[5]:f\"Here is a summary of a {flag} from Apple's 2020 Financial Report:\\n\",\n",
    "        pdfs[6]:f\"Here is a summary of a {flag} from Apple's 2022 Financial Report:\\n\",\n",
    "        pdfs[7]:f\"Here is a summary of a {flag} from NVIDIA's 2020 Financial Report:\\n\",\n",
    "        pdfs[8]:f\"Here is a summary of a {flag} from Apple's 2023 Financial Report:\\n\",\n",
    "        pdfs[9]:f\"Here is a summary of a {flag} from Facebook's 2022 Financial Report:\\n\",\n",
    "        pdfs[10]:f\"Here is a summary of a {flag} from Facebooks's 2021 Financial Report:\\n\",\n",
    "        pdfs[11]:f\"Here is a summary of a {flag} from Facebooks's 2023 Financial Report:\\n\",\n",
    "        pdfs[12]:f\"Here is a summary of a {flag} from Amazon's 2023 Financial Report:\\n\",\n",
    "        pdfs[13]:f\"Here is a summary of a {flag} from Alphabet(A.K.A Google)'s 2022 Financial Report:\\n\",\n",
    "        pdfs[14]:f\"Here is a summary of a {flag} from Alphabet(A.K.A Google)'s 2023 Financial Report:\\n\",\n",
    "        pdfs[15]:f\"Here is a summary of a {flag} from Apple's 2021 Financial Report:\\n\",\n",
    "        pdfs[16]:f\"Here is a summary of a {flag} from NVIDIA's 2021 Financial Report:\\n\",\n",
    "        pdfs[17]:f\"Here is a summary of a {flag} from Amazon's 2022 Financial Report:\\n\",\n",
    "        pdfs[18]:f\"Here is a summary of a {flag} from Alphabet(A.K.A Google)'s 2024 Financial Report:\\n\",\n",
    "        pdfs[19]:f\"Here is a summary of a {flag} from Facebook's 2020 Financial Report:\\n\",\n",
    "        pdfs[20]:f\"Here is a summary of a {flag} from Alphabet(A.K.A Google)'s 2021 Financial Report:\\n\",\n",
    "    }\n",
    "        newDoc = Document(page_content = headers[source[1]]+doc.page_content,metadata = doc.metadata)\n",
    "    elif source[2].startswith(\"figure\"):\n",
    "        flag = \"picture\"\n",
    "        headers = {\n",
    "        pdfs[0]:f\"Here is a summary of a {flag} from Amazon's 2021 Financial Report:\\n\",\n",
    "        pdfs[1]:f\"Here is a summary of a {flag} from NVIDIA's 2022 Financial Report:\\n\",\n",
    "        pdfs[2]:f\"Here is a summary of a {flag} from NVIDIA's 2023 Financial Report:\\n\",\n",
    "        pdfs[3]:f\"Here is a summary of a {flag} from Alphabet(A.K.A Google)'s 2020 Financial Report:\\n\",\n",
    "        pdfs[4]:f\"Here is a summary of a {flag} from Amazon's 2020 Financial Report:\\n\",\n",
    "        pdfs[5]:f\"Here is a summary of a {flag} from Apple's 2020 Financial Report:\\n\",\n",
    "        pdfs[6]:f\"Here is a summary of a {flag} from Apple's 2022 Financial Report:\\n\",\n",
    "        pdfs[7]:f\"Here is a summary of a {flag} from NVIDIA's 2020 Financial Report:\\n\",\n",
    "        pdfs[8]:f\"Here is a summary of a {flag} from Apple's 2023 Financial Report:\\n\",\n",
    "        pdfs[9]:f\"Here is a summary of a {flag} from Facebook's 2022 Financial Report:\\n\",\n",
    "        pdfs[10]:f\"Here is a summary of a {flag} from Facebooks's 2021 Financial Report:\\n\",\n",
    "        pdfs[11]:f\"Here is a summary of a {flag} from Facebooks's 2023 Financial Report:\\n\",\n",
    "        pdfs[12]:f\"Here is a summary of a {flag} from Amazon's 2023 Financial Report:\\n\",\n",
    "        pdfs[13]:f\"Here is a summary of a {flag} from Alphabet(A.K.A Google)'s 2022 Financial Report:\\n\",\n",
    "        pdfs[14]:f\"Here is a summary of a {flag} from Alphabet(A.K.A Google)'s 2023 Financial Report:\\n\",\n",
    "        pdfs[15]:f\"Here is a summary of a {flag} from Apple's 2021 Financial Report:\\n\",\n",
    "        pdfs[16]:f\"Here is a summary of a {flag} from NVIDIA's 2021 Financial Report:\\n\",\n",
    "        pdfs[17]:f\"Here is a summary of a {flag} from Amazon's 2022 Financial Report:\\n\",\n",
    "        pdfs[18]:f\"Here is a summary of a {flag} from Alphabet(A.K.A Google)'s 2024 Financial Report:\\n\",\n",
    "        pdfs[19]:f\"Here is a summary of a {flag} from Facebook's 2020 Financial Report:\\n\",\n",
    "        pdfs[20]:f\"Here is a summary of a {flag} from Alphabet(A.K.A Google)'s 2021 Financial Report:\\n\",\n",
    "    }\n",
    "        newDoc = Document(page_content = headers[source[1]]+doc.page_content,metadata = doc.metadata)\n",
    "    return newDoc"
   ]
  },
  {
   "cell_type": "code",
   "execution_count": 188,
   "id": "1accbccb-0094-40b8-b5c3-d2699c455b60",
   "metadata": {},
   "outputs": [],
   "source": [
    "allPDFSums = []\n",
    "for pdf in pdfs:\n",
    "    sums = joblib.load(f\"llamaParseDocs/{pdf}/summaries.pkl\")\n",
    "    sums = [applyHeader(doc) for doc in sums]\n",
    "    allPDFSums.extend(sums)"
   ]
  },
  {
   "cell_type": "code",
   "execution_count": 193,
   "id": "ca7232df-f889-40a2-8106-4ffa0c014a19",
   "metadata": {},
   "outputs": [],
   "source": [
    "with open(\"allPDFSums\"+\".pkl\", \"wb\") as f:\n",
    "        pickle.dump(allPDFSums, f)"
   ]
  },
  {
   "cell_type": "code",
   "execution_count": 242,
   "id": "ec7ab90d-6094-427d-b91e-3773dc810490",
   "metadata": {},
   "outputs": [],
   "source": [
    "def genHypoQuery(doc):\n",
    "    prompt = f\"\"\"<|begin_of_text|><|start_header_id|>system<|end_header_id|>\n",
    "-You Are an Expert Financial Analyst.\n",
    "-You will be given Excerpts,Tables and Pictures from yearly financial reports of Organizations.\n",
    "-Your Task is to Generate a numbered list of exactly 3 hypothetical short and simple patient questions that the document provided by the user could be used to answer for a financial chatbot. Each question should directly mention the Organization, Year, Topic, Financial Terms and Statistics it refers to without using pronouns like \"these\" or \"this.\"\n",
    "- Use this format for output: 1. \"question 1\" 2. \"question 2\" 3. \"question 3\".\n",
    "- Ensure questions are short, simple, and directly reference the document's content by explicitly naming the Organization, Year, Topic, Financial Terms and Statistics etc. they are inquiring about.\n",
    "- Avoid general pronouns and ensure specificity in each question to make them clear and direct.<|eot_id|>\n",
    "<|start_header_id|>user<|end_header_id|>\n",
    "###Document:{doc}\n",
    "<|eot_id|>\n",
    "<|start_header_id|>assistant<|end_header_id|>\n",
    "\"\"\"\n",
    "    model = AutoModelForCausalLM.from_pretrained(\"astronomer/Llama-3-8B-Instruct-GPTQ-4-Bit\",device_map = \"cuda:0\")\n",
    "    tokenizer = AutoTokenizer.from_pretrained(\"astronomer/Llama-3-8B-Instruct-GPTQ-4-Bit\")\n",
    "    questions = tokenizer.batch_decode(model.generate(**tokenizer(prompt,return_tensors = \"pt\"),max_new_tokens = 200,repetition_penalty = 1.2,do_sample = True,temperature = 0.2))[len(prompt):]\n",
    "    parser = NumberedListOutputParser()\n",
    "    ans = parser.parse(questions)\n",
    "    ans = [Document(page_content = ans,metadata = doc.metadata) for ans in ans]\n",
    "    return ans"
   ]
  },
  {
   "cell_type": "code",
   "execution_count": 229,
   "id": "617179f1-ddb7-40f6-a0ef-7bf6770c7053",
   "metadata": {},
   "outputs": [],
   "source": [
    "docs = joblib.load(\"allPDFDocs.pkl\")"
   ]
  },
  {
   "cell_type": "code",
   "execution_count": 246,
   "id": "a09b8f52-448b-49da-86b6-a3e708840790",
   "metadata": {},
   "outputs": [],
   "source": [
    "docs = joblib.load(\"allPDFDocs.pkl\")"
   ]
  },
  {
   "cell_type": "code",
   "execution_count": 216,
   "id": "84e1f526-6783-43ac-9beb-349a40b4b1a3",
   "metadata": {},
   "outputs": [],
   "source": [
    "docs.extend(sums)"
   ]
  },
  {
   "cell_type": "code",
   "execution_count": 221,
   "id": "c8a2d5c1-1f6e-4e12-9679-e90c6e0c976c",
   "metadata": {},
   "outputs": [],
   "source": [
    "def addID(doc):\n",
    "    doc.metadata['id'] = str(uuid.uuid4())\n",
    "    return doc"
   ]
  },
  {
   "cell_type": "code",
   "execution_count": 230,
   "id": "c5df6d2f-43af-4d46-b771-79892a0d3e58",
   "metadata": {},
   "outputs": [],
   "source": [
    "docs = [addID(doc) for doc in docs]"
   ]
  },
  {
   "cell_type": "code",
   "execution_count": 232,
   "id": "6f2e1cd8-f375-4596-81cc-17dd4814382b",
   "metadata": {},
   "outputs": [
    {
     "data": {
      "text/plain": [
       "10160"
      ]
     },
     "execution_count": 232,
     "metadata": {},
     "output_type": "execute_result"
    }
   ],
   "source": [
    "len(docs)"
   ]
  },
  {
   "cell_type": "code",
   "execution_count": 234,
   "id": "5a7e1ed2-304f-4442-9d7a-84ab0c80bc09",
   "metadata": {},
   "outputs": [],
   "source": [
    "sums = [addID(doc) for doc in sums]"
   ]
  },
  {
   "cell_type": "code",
   "execution_count": 235,
   "id": "3b16d306-80e8-4795-8b3c-1bbe82e3e287",
   "metadata": {},
   "outputs": [
    {
     "data": {
      "text/plain": [
       "1970"
      ]
     },
     "execution_count": 235,
     "metadata": {},
     "output_type": "execute_result"
    }
   ],
   "source": [
    "len(sums)"
   ]
  },
  {
   "cell_type": "code",
   "execution_count": 239,
   "id": "ca948bde-2ec0-4da8-8a52-ed53529403d5",
   "metadata": {},
   "outputs": [],
   "source": [
    "with open(\"allPDFSums\"+\".pkl\", \"wb\") as f:\n",
    "        pickle.dump(sums, f)"
   ]
  },
  {
   "cell_type": "code",
   "execution_count": 240,
   "id": "e7fb1034-7972-46cb-8c57-1b4337451f92",
   "metadata": {},
   "outputs": [],
   "source": [
    "with open(\"allPDFDocs\"+\".pkl\", \"wb\") as f:\n",
    "        pickle.dump(docs, f)"
   ]
  },
  {
   "cell_type": "code",
   "execution_count": 248,
   "id": "c77db9a9-71c7-435b-a3c6-9e8b5cfcfbc3",
   "metadata": {},
   "outputs": [],
   "source": [
    "docs = joblib.load(\"allPDFDocs.pkl\")\n",
    "sums = joblib.load(\"allPDFSums.pkl\")\n",
    "docs.extend(sums)"
   ]
  },
  {
   "cell_type": "code",
   "execution_count": 249,
   "id": "da1a369c-ef46-464c-b48c-9c089915155e",
   "metadata": {},
   "outputs": [
    {
     "data": {
      "text/plain": [
       "12130"
      ]
     },
     "execution_count": 249,
     "metadata": {},
     "output_type": "execute_result"
    }
   ],
   "source": [
    "len(docs)"
   ]
  },
  {
   "cell_type": "code",
   "execution_count": 251,
   "id": "f509012a-7ec0-45ae-ad5a-43ad9dd5c09e",
   "metadata": {},
   "outputs": [
    {
     "name": "stderr",
     "output_type": "stream",
     "text": [
      "100%|██████████| 12130/12130 [3:39:35<00:00,  1.09s/it] \n"
     ]
    }
   ],
   "source": [
    "allHypoQuery = []\n",
    "for doc in tqdm(docs):\n",
    "    qs = genHypoQuery(doc)\n",
    "    allHypoQuery.extend(qs)\n",
    "with open(\"allPDFQueries\"+\".pkl\", \"wb\") as f:\n",
    "        pickle.dump(allHypoQuery, f)"
   ]
  },
  {
   "cell_type": "code",
   "execution_count": 252,
   "id": "ccd65fb6-0cff-4b08-9620-d7e39c4ac598",
   "metadata": {},
   "outputs": [],
   "source": [
    "qs = joblib.load(\"allPDFQueries.pkl\")"
   ]
  }
 ],
 "metadata": {
  "kernelspec": {
   "display_name": "Python 3",
   "language": "python",
   "name": "python3"
  },
  "language_info": {
   "codemirror_mode": {
    "name": "ipython",
    "version": 3
   },
   "file_extension": ".py",
   "mimetype": "text/x-python",
   "name": "python",
   "nbconvert_exporter": "python",
   "pygments_lexer": "ipython3",
   "version": "3.9.12"
  }
 },
 "nbformat": 4,
 "nbformat_minor": 5
}
