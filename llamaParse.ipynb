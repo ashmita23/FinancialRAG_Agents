{
 "cells": [
  {
   "cell_type": "code",
   "execution_count": 6,
   "id": "27b729b4-d6af-4167-b0f9-5be77a178bb9",
   "metadata": {},
   "outputs": [
    {
     "name": "stdout",
     "output_type": "stream",
     "text": [
      "Started parsing the file under job_id cac11eca-f9f0-44de-ab3f-8ae99c971ef2\n"
     ]
    }
   ],
   "source": [
    "from llama_parse import LlamaParse  \n",
    "from llama_index.core import SimpleDirectoryReader\n",
    "import nest_asyncio\n",
    "import pickle\n",
    "nest_asyncio.apply()\n",
    "parser = LlamaParse(\n",
    "    api_key=\"llx-Zf0VOIvGUktXQV0ldK2e6bHmBXQQOujO9neFM3gfYwLqee2N\",\n",
    "    result_type=\"markdown\",\n",
    "    verbose = True\n",
    ")\n",
    "documents = parser.load_data(\"files/2020_alphabet_annual_report.pdf\")"
   ]
  },
  {
   "cell_type": "code",
   "execution_count": null,
   "id": "6d39248d-ec87-477e-ab29-99f62f34e1b7",
   "metadata": {},
   "outputs": [],
   "source": []
  },
  {
   "cell_type": "code",
   "execution_count": 39,
   "id": "a4ccd2f1-3e24-4092-9321-e2b4ad46c461",
   "metadata": {},
   "outputs": [
    {
     "data": {
      "text/plain": [
       "('ed Public Accounting Firm: Ernst & Young LLP\\n---\\n\\n',\n",
       " '2020_alphabet_annual_report.pdf')"
      ]
     },
     "execution_count": 39,
     "metadata": {},
     "output_type": "execute_result"
    }
   ],
   "source": [
    "(documents[0].text[-50:],documents[0].metadata['file_name'])"
   ]
  },
  {
   "cell_type": "code",
   "execution_count": 40,
   "id": "06e1cfe2-77fb-4308-81b4-c96aca7ff668",
   "metadata": {},
   "outputs": [
    {
     "data": {
      "text/plain": [
       "['2020_alphabet_annual_report.pdf',\n",
       " '2021_alphabet_annual_report.pdf',\n",
       " '2022-alphabet-annual-report.pdf',\n",
       " '2023_alphabet.pdf',\n",
       " '2024_alphabet-10-q-q1-2024.pdf',\n",
       " 'Amazon-2020-Annual-Report.pdf',\n",
       " 'Amazon-2021-Annual-Report.pdf',\n",
       " 'Amazon-2022-Annual-Report.pdf',\n",
       " 'Amazon-com-Inc-2023-Annual-Report.pdf',\n",
       " 'Apple_10-K-2021.pdf',\n",
       " 'Apple_10-K-Q4-2020.pdf',\n",
       " 'Apple_10-K-Q4-2022.pdf',\n",
       " 'Apple_10-K-Q4-2023.pdf',\n",
       " 'FB_2020-Annual-Report_FB.pdf',\n",
       " 'FB_2021-Annual-Report_FB.pdf',\n",
       " 'FB_2022.pdf',\n",
       " 'FB_2023.pdf',\n",
       " 'NASDAQ_NVDA_2020.pdf']"
      ]
     },
     "execution_count": 40,
     "metadata": {},
     "output_type": "execute_result"
    }
   ],
   "source": [
    "[doc.metadata['file_name'] for doc in documents]"
   ]
  },
  {
   "cell_type": "code",
   "execution_count": 50,
   "id": "e5fa8578-a96e-45ba-98a8-8d6ae461969b",
   "metadata": {},
   "outputs": [
    {
     "data": {
      "text/plain": [
       "['NASDAQ_NVDA_2021.pdf', 'NASDAQ_NVDA_2023.pdf', 'NASDAQ_NVDA_2022.pdf']"
      ]
     },
     "execution_count": 50,
     "metadata": {},
     "output_type": "execute_result"
    }
   ],
   "source": [
    "files"
   ]
  },
  {
   "cell_type": "code",
   "execution_count": 58,
   "id": "92c6b595-6e27-4d77-a402-a6ada71912b8",
   "metadata": {},
   "outputs": [],
   "source": [
    "documents.extend(docs2)"
   ]
  },
  {
   "cell_type": "code",
   "execution_count": 98,
   "id": "923f635e-c444-4777-9fc6-d8c77610b43c",
   "metadata": {},
   "outputs": [],
   "source": [
    "documents[18].metadata['file_name'] = \"NASDAQ_NVDA_2021.pdf\""
   ]
  },
  {
   "cell_type": "code",
   "execution_count": 100,
   "id": "a0129d68-2874-43f6-a727-cb22cf33ed55",
   "metadata": {},
   "outputs": [],
   "source": [
    "documents[19].metadata['file_name'] = \"NASDAQ_NVDA_2023.pdf\""
   ]
  },
  {
   "cell_type": "code",
   "execution_count": 101,
   "id": "e7f68a29-8d0f-4cb7-b195-d80cb644d63f",
   "metadata": {},
   "outputs": [],
   "source": [
    "documents[20].metadata['file_name'] = \"NASDAQ_NVDA_2022.pdf\""
   ]
  },
  {
   "cell_type": "code",
   "execution_count": 105,
   "id": "52a52bb2-d120-4c04-9946-57bcfee03815",
   "metadata": {},
   "outputs": [
    {
     "data": {
      "text/plain": [
       "'NASDAQ_NVDA_2022'"
      ]
     },
     "execution_count": 105,
     "metadata": {},
     "output_type": "execute_result"
    }
   ],
   "source": [
    "documents[20].metadata['file_name'][:-4]"
   ]
  },
  {
   "cell_type": "code",
   "execution_count": null,
   "id": "52b06a40-5cd3-4fe6-b0f5-208f1f1186eb",
   "metadata": {},
   "outputs": [],
   "source": []
  }
 ],
 "metadata": {
  "kernelspec": {
   "display_name": "Python 3",
   "language": "python",
   "name": "python3"
  },
  "language_info": {
   "codemirror_mode": {
    "name": "ipython",
    "version": 3
   },
   "file_extension": ".py",
   "mimetype": "text/x-python",
   "name": "python",
   "nbconvert_exporter": "python",
   "pygments_lexer": "ipython3",
   "version": "3.9.12"
  }
 },
 "nbformat": 4,
 "nbformat_minor": 5
}
